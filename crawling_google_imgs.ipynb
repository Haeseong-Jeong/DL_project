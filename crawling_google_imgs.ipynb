{
 "cells": [
  {
   "cell_type": "code",
   "execution_count": 32,
   "id": "3f9c1d34",
   "metadata": {
    "ExecuteTime": {
     "end_time": "2023-10-10T09:01:03.937173Z",
     "start_time": "2023-10-10T09:01:03.927693Z"
    }
   },
   "outputs": [],
   "source": [
    "import os\n",
    "import ssl\n",
    "import time\n",
    "import urllib.request\n",
    "\n",
    "from urllib import parse\n",
    "from tqdm.notebook import tqdm\n",
    "\n",
    "from selenium import webdriver\n",
    "from selenium.webdriver import ActionChains\n",
    "from selenium.webdriver.common.by import By\n",
    "from selenium.webdriver.common.keys import Keys\n",
    "from selenium.webdriver.chrome.service import Service\n",
    "from selenium.webdriver.chrome.service import Service as ChromeService\n",
    "from webdriver_manager.chrome import ChromeDriverManager #!pip install webdriver-manager\n",
    "\n",
    "ssl._create_default_https_context = ssl._create_unverified_context"
   ]
  },
  {
   "cell_type": "code",
   "execution_count": 33,
   "id": "3e9e2d45",
   "metadata": {
    "ExecuteTime": {
     "end_time": "2023-10-10T09:01:04.612675Z",
     "start_time": "2023-10-10T09:01:04.595456Z"
    }
   },
   "outputs": [],
   "source": [
    "def createDirectory(directory):\n",
    "    try:\n",
    "        if not os.path.exists(directory):\n",
    "            os.makedirs(directory)\n",
    "    except OSError:\n",
    "        print(\"Error: Failed to create the directory.\")"
   ]
  },
  {
   "cell_type": "code",
   "execution_count": 34,
   "id": "25434429",
   "metadata": {
    "ExecuteTime": {
     "end_time": "2023-10-10T09:01:05.234701Z",
     "start_time": "2023-10-10T09:01:05.221462Z"
    }
   },
   "outputs": [],
   "source": [
    "def crawling_img(name,num):\n",
    "    \n",
    "    url = \"https://www.google.co.kr/imghp?hl=ko&tab=wi&authuser=0&ogbl\"\n",
    "    driver = webdriver.Chrome(service=ChromeService(ChromeDriverManager().install()))\n",
    "    driver.get(url)\n",
    "    action = ActionChains(driver)\n",
    "    #time.sleep(1)\n",
    "    #driver.maximize_window()\n",
    "    \n",
    "    elem = driver.find_element(By.NAME,\"q\")\n",
    "    elem.send_keys(name)\n",
    "    elem.send_keys(Keys.RETURN)\n",
    "\n",
    "    SCROLL_PAUSE_TIME = 1\n",
    "    # Get scroll height\n",
    "    last_height = driver.execute_script(\"return document.body.scrollHeight\")  # 브라우저의 높이를 자바스크립트로 찾음\n",
    "    while True:\n",
    "        # Scroll down to bottom\n",
    "        driver.execute_script(\"window.scrollTo(0, document.body.scrollHeight);\")  # 브라우저 끝까지 스크롤을 내림\n",
    "        # Wait to load page\n",
    "        time.sleep(SCROLL_PAUSE_TIME)\n",
    "        # Calculate new scroll height and compare with last scroll height\n",
    "        new_height = driver.execute_script(\"return document.body.scrollHeight\")\n",
    "        if new_height == last_height:\n",
    "            try:\n",
    "                driver.find_element(By.CSS_SELECTOR,\".mye4qd\").click()\n",
    "            except:\n",
    "                break\n",
    "                \n",
    "        last_height = new_height\n",
    "    imgs = driver.find_elements(By.CSS_SELECTOR,\".rg_i.Q4LuWd\")\n",
    "        \n",
    "    dir = \"./imgs_data/\" + name\n",
    "    createDirectory(dir) #폴더 생성\n",
    "    \n",
    "    count = 0\n",
    "    for img in imgs:\n",
    "        try:\n",
    "            img.click()\n",
    "            time.sleep(0.5)\n",
    "            imgUrl = driver.find_element(By.XPATH,\n",
    "                '//*[@id=\"Sva75c\"]/div[2]/div[2]/div[2]/div[2]/c-wiz/div/div/div/div[3]/div[1]/a/img[1]').get_attribute(\n",
    "                \"src\")  \n",
    "            \n",
    "            opener = urllib.request.build_opener()\n",
    "            opener.addheaders = [\n",
    "            ('User-Agent',\n",
    "             'Mozilla/5.0 (Windows NT 6.1; WOW64) AppleWebKit/537.36 (KHTML, like Gecko) Chrome/36.0.1941.0 Safari/537.36')\n",
    "            ]\n",
    "            urllib.request.install_opener(opener)\n",
    "            \n",
    "            path = dir + \"/\"\n",
    "            urllib.request.urlretrieve(imgUrl, path + name + str(count+1) + \".jpg\")\n",
    "            count = count + 1\n",
    "            if count >= num:\n",
    "                break\n",
    "        except Exception as e:\n",
    "            print('e : ', e)\n",
    "            pass\n",
    "    driver.close()"
   ]
  },
  {
   "cell_type": "code",
   "execution_count": 35,
   "id": "1f80eb1f",
   "metadata": {
    "ExecuteTime": {
     "end_time": "2023-10-10T09:01:48.426659Z",
     "start_time": "2023-10-10T09:01:05.956335Z"
    }
   },
   "outputs": [],
   "source": [
    "foods = [\"치킨\",\"피자\"]\n",
    "\n",
    "for food in foods:\n",
    "    crawling_img(food,5)"
   ]
  },
  {
   "cell_type": "markdown",
   "id": "d4a83f0e",
   "metadata": {},
   "source": [
    "- 결과 더보기까지 스크롤 했을때 대략 400개 이미지가 추출되는 듯"
   ]
  },
  {
   "cell_type": "code",
   "execution_count": null,
   "id": "30864644",
   "metadata": {},
   "outputs": [],
   "source": []
  },
  {
   "cell_type": "code",
   "execution_count": null,
   "id": "bd1bff18",
   "metadata": {},
   "outputs": [],
   "source": []
  },
  {
   "cell_type": "code",
   "execution_count": null,
   "id": "8e0d123b",
   "metadata": {},
   "outputs": [],
   "source": []
  },
  {
   "cell_type": "code",
   "execution_count": null,
   "id": "b8525bd2",
   "metadata": {},
   "outputs": [],
   "source": []
  },
  {
   "cell_type": "code",
   "execution_count": null,
   "id": "a8e78c8d",
   "metadata": {},
   "outputs": [],
   "source": []
  },
  {
   "cell_type": "code",
   "execution_count": null,
   "id": "02bd25f8",
   "metadata": {},
   "outputs": [],
   "source": []
  },
  {
   "cell_type": "code",
   "execution_count": null,
   "id": "9513c77b",
   "metadata": {},
   "outputs": [],
   "source": []
  }
 ],
 "metadata": {
  "kernelspec": {
   "display_name": "ds_study",
   "language": "python",
   "name": "ds_study"
  },
  "language_info": {
   "codemirror_mode": {
    "name": "ipython",
    "version": 3
   },
   "file_extension": ".py",
   "mimetype": "text/x-python",
   "name": "python",
   "nbconvert_exporter": "python",
   "pygments_lexer": "ipython3",
   "version": "3.8.18"
  }
 },
 "nbformat": 4,
 "nbformat_minor": 5
}
